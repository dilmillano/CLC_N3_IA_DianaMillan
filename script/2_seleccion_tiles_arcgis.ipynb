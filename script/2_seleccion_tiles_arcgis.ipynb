{
 "cells": [
  {
   "cell_type": "code",
   "execution_count": 6,
   "metadata": {},
   "outputs": [
    {
     "name": "stdout",
     "output_type": "stream",
     "text": [
      "✅ Excel generado con 1 o 2 tiles por clase, según representación.\n"
     ]
    }
   ],
   "source": [
    "import arcpy\n",
    "import pandas as pd\n",
    "\n",
    "# Feature class de entrada\n",
    "fc = r\"C:\\Users\\diana\\Documents\\ArcGIS\\Projects\\INTEIA\\INTEIA.gdb\\CLC_2020_Intersect_tiles\"\n",
    "\n",
    "# Leer campos necesarios\n",
    "fields = ['tile_id', 'nivel_3', 'AREA_HECTAREAS']\n",
    "rows = [row for row in arcpy.da.SearchCursor(fc, fields)]\n",
    "df = pd.DataFrame(rows, columns=fields)\n",
    "\n",
    "# Calcular área total por tile para luego obtener proporción por clase\n",
    "total_area = df.groupby('tile_id')['AREA_HECTAREAS'].sum().reset_index()\n",
    "total_area = total_area.rename(columns={'AREA_HECTAREAS': 'AREA_TOTAL'})\n",
    "df = df.merge(total_area, on='tile_id')\n",
    "df['PCT_AREA'] = df['AREA_HECTAREAS'] / df['AREA_TOTAL']\n",
    "\n",
    "# Diccionario de leyendas (como antes)\n",
    "leyendas = {\n",
    "    '111': 'Tejido urbano continuo',\n",
    "    '112': 'Tejido urbano discontinuo',\n",
    "    '121': 'Zonas industriales o comerciales',\n",
    "    '122': 'Red vial, ferroviaria y terrenos asociados',\n",
    "    '123': 'Zonas portuarias',\n",
    "    '124': 'Aeropuertos',\n",
    "    '125': 'Obras hidráulicas',\n",
    "    '131': 'Zonas de extracción minera',\n",
    "    '132': 'Zonas de disposición de residuos',\n",
    "    '141': 'Zonas verdes urbanas',\n",
    "    '142': 'Instalaciones recreativas',\n",
    "    '211': 'Otros cultivos transitorios',\n",
    "    '212': 'Cereales',\n",
    "    '213': 'Oleaginosas y leguminosas',\n",
    "    '214': 'Hortalizas',\n",
    "    '215': 'Tubérculos',\n",
    "    '221': 'Cultivos permanentes herbáceos',\n",
    "    '222': 'Cultivos permanentes arbustivos',\n",
    "    '223': 'Cultivos permanentes arbóreos',\n",
    "    '224': 'Cultivos agroforestales',\n",
    "    '225': 'Cultivos confinados',\n",
    "    '231': 'Pastos limpios',\n",
    "    '232': 'Pastos arbolados',\n",
    "    '233': 'Pastos enmalezados',\n",
    "    '241': 'Mosaico de cultivos',\n",
    "    '242': 'Mosaico de pastos y cultivos',\n",
    "    '243': 'Mosaico de cultivos, pastos y espacios naturales',\n",
    "    '244': 'Mosaico de pastos con espacios naturales',\n",
    "    '245': 'Mosaico de cultivos y espacios naturales',\n",
    "    '311': 'Bosque denso',\n",
    "    '312': 'Bosque abierto',\n",
    "    '313': 'Bosque fragmentado',\n",
    "    '314': 'Bosque de galería y ripario',\n",
    "    '315': 'Plantación forestal',\n",
    "    '321': 'Herbazal',\n",
    "    '322': 'Arbustal',\n",
    "    '323': 'Vegetación secundaria',\n",
    "    '331': 'Zonas arenosas naturales',\n",
    "    '332': 'Afloramientos rocosos',\n",
    "    '333': 'Tierras desnudas y degradadas',\n",
    "    '334': 'Zonas quemadas',\n",
    "    '335': 'Zonas glaciares y nivales',\n",
    "    '411': 'Zonas pantanosas',\n",
    "    '412': 'Turberas',\n",
    "    '413': 'Vegetación acuática',\n",
    "    '421': 'Pantanos costeros',\n",
    "    '422': 'Salitral',\n",
    "    '423': 'Sedimentos expuestos en bajamar',\n",
    "    '511': 'Ríos (50 m)',\n",
    "    '512': 'Lagunas, lagos y ciénagas',\n",
    "    '513': 'Canales',\n",
    "    '514': 'Cuerpos de agua artificiales',\n",
    "    '521': 'Lagunas costeras',\n",
    "    '522': 'Mares y océanos',\n",
    "    '523': 'Estanques acuicultura marina'\n",
    "}\n",
    "\n",
    "# Asegurar que 'nivel_3' sea texto para mapear la leyenda\n",
    "df['nivel_3'] = df['nivel_3'].astype(str)\n",
    "df['leyenda'] = df['nivel_3'].map(leyendas)\n",
    "\n",
    "# Filtrar solo clases válidas\n",
    "df_filtrado = df[df['leyenda'].notnull()]\n",
    "\n",
    "# Dividir en clases de alta y baja representación\n",
    "tiles_1 = df_filtrado[df_filtrado['PCT_AREA'] >= 0.3]\n",
    "tiles_2 = df_filtrado[df_filtrado['PCT_AREA'] < 0.3]\n",
    "\n",
    "# Elegir tiles: 1 si alta representación, 2 si baja\n",
    "sel_1 = (\n",
    "    tiles_1.sort_values(['nivel_3', 'AREA_HECTAREAS'], ascending=[True, False])\n",
    "    .groupby('nivel_3').head(1)\n",
    ")\n",
    "\n",
    "sel_2 = (\n",
    "    tiles_2.sort_values(['nivel_3', 'AREA_HECTAREAS'], ascending=[True, False])\n",
    "    .groupby('nivel_3').head(2)\n",
    ")\n",
    "\n",
    "# Unir resultados y quitar duplicados\n",
    "seleccion_final = pd.concat([sel_1, sel_2]).drop_duplicates(subset=['tile_id', 'nivel_3'])\n",
    "\n",
    "# Guardar como Excel\n",
    "output_excel = r\"C:\\inteia\\output\\tiles_por_clase.xlsx\"\n",
    "seleccion_final.to_excel(output_excel, index=False)\n",
    "\n",
    "print(\"✅ Excel generado con 1 o 2 tiles por clase, según representación.\")\n"
   ]
  },
  {
   "cell_type": "code",
   "execution_count": 7,
   "metadata": {},
   "outputs": [
    {
     "name": "stdout",
     "output_type": "stream",
     "text": [
      "✅ Shapefile generado con tiles seleccionados en: C:\\inteia\\output\\tiles_para_etiquetar.shp\n"
     ]
    }
   ],
   "source": [
    "import arcpy\n",
    "import pandas as pd\n",
    "import os\n",
    "\n",
    "# Leer Excel con los tile_id seleccionados\n",
    "excel_path = r\"C:\\inteia\\output\\tiles_por_clase.xlsx\"\n",
    "df_tiles = pd.read_excel(excel_path)\n",
    "selected_ids = df_tiles['tile_id'].astype(str).unique().tolist()\n",
    "\n",
    "# Ruta del shapefile base\n",
    "input_shp = r\"C:\\inteia\\output\\tiles_index.shp\"\n",
    "\n",
    "# Capa temporal para trabajar\n",
    "arcpy.MakeFeatureLayer_management(input_shp, \"tiles_layer\")\n",
    "\n",
    "# Armar cláusula SQL para seleccionar los tile_id deseados\n",
    "id_field = \"tile_id\"\n",
    "quoted_ids = [f\"'{i}'\" if not str(i).isdigit() else str(i) for i in selected_ids]\n",
    "where_clause = f\"{id_field} IN ({', '.join(quoted_ids)})\"\n",
    "\n",
    "# Aplicar selección\n",
    "arcpy.management.SelectLayerByAttribute(\"tiles_layer\", \"NEW_SELECTION\", where_clause)\n",
    "\n",
    "# Exportar selección como nuevo shapefile\n",
    "output_shp = r\"C:\\inteia\\output\\tiles_para_etiquetar.shp\"\n",
    "arcpy.management.CopyFeatures(\"tiles_layer\", output_shp)\n",
    "\n",
    "print(\"✅ Shapefile generado con tiles seleccionados en:\", output_shp)\n"
   ]
  },
  {
   "cell_type": "markdown",
   "metadata": {},
   "source": [
    "# Subset"
   ]
  },
  {
   "cell_type": "markdown",
   "metadata": {},
   "source": [
    "# sacar para dataset"
   ]
  }
 ],
 "metadata": {
  "kernelspec": {
   "display_name": "ArcGISPro",
   "language": "Python",
   "name": "python3"
  },
  "language_info": {
   "file_extension": ".py",
   "name": "python",
   "version": "3"
  }
 },
 "nbformat": 4,
 "nbformat_minor": 2
}
