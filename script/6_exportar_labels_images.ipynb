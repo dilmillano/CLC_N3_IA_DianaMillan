{
 "cells": [
  {
   "cell_type": "markdown",
   "metadata": {},
   "source": [
    "# sacar para dataset"
   ]
  },
  {
   "cell_type": "code",
   "execution_count": 6,
   "metadata": {},
   "outputs": [
    {
     "name": "stdout",
     "output_type": "stream",
     "text": [
      "Procesando tile 6.0...\n",
      "Procesando tile 7.0...\n",
      "Procesando tile 18.0...\n",
      "Procesando tile 22.0...\n",
      "Procesando tile 23.0...\n",
      "Procesando tile 26.0...\n",
      "Procesando tile 30.0...\n",
      "Procesando tile 32.0...\n",
      "Procesando tile 34.0...\n",
      "Procesando tile 39.0...\n",
      "✅ ¡Proceso completado! GeoTIFFs y GeoJSONs generados por tile.\n"
     ]
    }
   ],
   "source": [
    "import arcpy\n",
    "import os\n",
    "\n",
    "# --- Rutas base\n",
    "tiles_shp = r\"C:\\inteia\\output\\tiles_para_etiquetar_AGRUPADO.shp\"\n",
    "gdb_path = r\"C:\\Users\\diana\\Documents\\ArcGIS\\Projects\\INTEIA\\INTEIA.gdb\"\n",
    "vector_clasificacion = os.path.join(gdb_path, \"clasificacion_vect_Intersect_TILES\")\n",
    "image_raster = r\"C:\\inteia\\output\\cropped_image_1_subset.tif\"  # nombre actualizado\n",
    "\n",
    "# --- Crear carpetas de salida\n",
    "output_root = r\"C:\\inteia\\output\\dataset\"\n",
    "images_folder = os.path.join(output_root, \"images\")\n",
    "labels_folder = os.path.join(output_root, \"labels\")\n",
    "\n",
    "os.makedirs(images_folder, exist_ok=True)\n",
    "os.makedirs(labels_folder, exist_ok=True)\n",
    "\n",
    "# --- Capa temporal de tiles\n",
    "arcpy.MakeFeatureLayer_management(tiles_shp, \"tiles_layer\")\n",
    "\n",
    "# --- Iterar sobre cada tile\n",
    "with arcpy.da.SearchCursor(tiles_shp, [\"tile_id\", \"SHAPE@\"]) as cursor:\n",
    "    for tile_id, geometry in cursor:\n",
    "        print(f\"Procesando tile {tile_id}...\")\n",
    "\n",
    "        # 1. Exportar imagen en .tif\n",
    "        out_image = os.path.join(images_folder, f\"{int(tile_id)}.tif\")\n",
    "        arcpy.Clip_management(\n",
    "            in_raster=image_raster,\n",
    "            rectangle=\"\",  # Usa geometría\n",
    "            out_raster=out_image,\n",
    "            in_template_dataset=geometry,\n",
    "            nodata_value=\"0\",\n",
    "            clipping_geometry=\"ClippingGeometry\",\n",
    "            maintain_clipping_extent=\"MAINTAIN_EXTENT\"\n",
    "        )\n",
    "\n",
    "        # 2. Exportar geojson de etiquetas\n",
    "        label_output = os.path.join(labels_folder, f\"{int(tile_id)}.geojson\")\n",
    "        where_clause = f\"tile_id = {tile_id}\"\n",
    "        arcpy.MakeFeatureLayer_management(vector_clasificacion, \"class_layer\", where_clause)\n",
    "        arcpy.conversion.FeaturesToJSON(\n",
    "            in_features=\"class_layer\",\n",
    "            out_json_file=label_output,\n",
    "            geoJSON=\"GEOJSON\"\n",
    "        )\n",
    "\n",
    "print(\"✅ ¡Proceso completado! GeoTIFFs y GeoJSONs generados por tile.\")\n"
   ]
  },
  {
   "cell_type": "code",
   "execution_count": null,
   "metadata": {},
   "outputs": [],
   "source": []
  }
 ],
 "metadata": {
  "kernelspec": {
   "display_name": "ArcGISPro",
   "language": "Python",
   "name": "python3"
  },
  "language_info": {
   "file_extension": ".py",
   "name": "python",
   "version": "3"
  }
 },
 "nbformat": 4,
 "nbformat_minor": 2
}
